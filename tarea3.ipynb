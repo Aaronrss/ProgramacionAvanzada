{
  "nbformat": 4,
  "nbformat_minor": 0,
  "metadata": {
    "colab": {
      "provenance": [],
      "collapsed_sections": [
        "frhrvmQHnuss",
        "RwUEsBxZo8cf",
        "Tgou0Ajzoy5Z"
      ]
    },
    "kernelspec": {
      "name": "python3",
      "display_name": "Python 3"
    },
    "language_info": {
      "name": "python"
    }
  },
  "cells": [
    {
      "cell_type": "markdown",
      "source": [
        "# Tarea 3"
      ],
      "metadata": {
        "id": "hlV4bniFnArU"
      }
    },
    {
      "cell_type": "markdown",
      "source": [
        "### Listas en python"
      ],
      "metadata": {
        "id": "frhrvmQHnuss"
      }
    },
    {
      "cell_type": "code",
      "source": [
        "#Se crea una lista de python\n",
        "lista1 = [\"apple\", \"banana\", \"cherry\"]\n",
        "#Se muestran en pantalla todos los valores de la lista\n",
        "print(\"Elementos de la lista1: \",lista1)"
      ],
      "metadata": {
        "colab": {
          "base_uri": "https://localhost:8080/"
        },
        "id": "m1sq7P-gneKE",
        "outputId": "f375e94b-7fd7-411d-a0f9-6cf7a9036be9"
      },
      "execution_count": null,
      "outputs": [
        {
          "output_type": "stream",
          "name": "stdout",
          "text": [
            "Elementos de la lista1:  ['apple', 'banana', 'cherry']\n"
          ]
        }
      ]
    },
    {
      "cell_type": "code",
      "source": [
        "#Las listas permiten valores repetidos\n",
        "lista2 = [\"apple\", \"banana\", \"cherry\", \"apple\", \"cherry\"]\n",
        "#Se muestran en pantalla todos los valores de la lista\n",
        "print(\"Elementos de la lista2: \",lista2)"
      ],
      "metadata": {
        "colab": {
          "base_uri": "https://localhost:8080/"
        },
        "id": "dn_CgiG1oBmq",
        "outputId": "e5e6945e-dc30-4dbd-965f-45a5e8d40cde"
      },
      "execution_count": null,
      "outputs": [
        {
          "output_type": "stream",
          "name": "stdout",
          "text": [
            "Elementos de la lista2:  ['apple', 'banana', 'cherry', 'apple', 'cherry']\n"
          ]
        }
      ]
    },
    {
      "cell_type": "code",
      "source": [
        "#Los elementos de la lista pueden ser de cualquier tipo de datos\n",
        "lista3 = [\"apple\", \"banana\", \"cherry\"]\n",
        "#Se muestran en pantalla todos los valores de la lista\n",
        "print(\"Elementos de la lista3: \",lista3)\n",
        "lista4 = [1, 5, 7, 9, 3]\n",
        "#Se muestran en pantalla todos los valores de la lista\n",
        "print(\"Elementos de la lista4: \",lista4)\n",
        "lista5 = [True, False, False]\n",
        "#Se muestran en pantalla todos los valores de la lista\n",
        "print(\"Elementos de la lista5: \",lista5)\n",
        "#Una lista puede contener diferentes tipos de datos\n",
        "lista6 = [\"abc\", 34, True, 40, \"male\"]\n",
        "print(\"Elementos de la lista6: \",lista6)"
      ],
      "metadata": {
        "colab": {
          "base_uri": "https://localhost:8080/"
        },
        "id": "ueFh6imqoKIf",
        "outputId": "885cf26f-8d42-4f7d-cf65-72083eba2e9d"
      },
      "execution_count": null,
      "outputs": [
        {
          "output_type": "stream",
          "name": "stdout",
          "text": [
            "Elementos de la lista3:  ['apple', 'banana', 'cherry']\n",
            "Elementos de la lista4:  [1, 5, 7, 9, 3]\n",
            "Elementos de la lista5:  [True, False, False]\n",
            "Elementos de la lista6:  ['abc', 34, True, 40, 'male']\n"
          ]
        }
      ]
    },
    {
      "cell_type": "code",
      "source": [
        "lista7 = [\"apple\", \"banana\", \"cherry\"]\n",
        "#Se muestra el segundo elemento de la lista7:\n",
        "print(\"Segundo elemento de la lista7: \",lista7[1])"
      ],
      "metadata": {
        "colab": {
          "base_uri": "https://localhost:8080/"
        },
        "id": "00DA9VIroOQW",
        "outputId": "b3db3044-c34c-40ad-f99e-3450f36131b2"
      },
      "execution_count": null,
      "outputs": [
        {
          "output_type": "stream",
          "name": "stdout",
          "text": [
            "Segundo elemento de la lista7:  banana\n"
          ]
        }
      ]
    },
    {
      "cell_type": "code",
      "source": [
        "lista8 = [\"apple\", \"banana\", \"cherry\"]\n",
        "#Se muestra el ultimo elemento de la lista8:\n",
        "print(\"Ultimo elemento de la lista8: \",lista8[-1])"
      ],
      "metadata": {
        "colab": {
          "base_uri": "https://localhost:8080/"
        },
        "id": "6P3CB4O9oTlY",
        "outputId": "38ab653b-9fb0-43b2-d149-ff83c5e2d2cc"
      },
      "execution_count": null,
      "outputs": [
        {
          "output_type": "stream",
          "name": "stdout",
          "text": [
            "Ultimo elemento de la lista8:  cherry\n"
          ]
        }
      ]
    },
    {
      "cell_type": "code",
      "source": [
        "#Rangos en una lista\n",
        "lista9 = [\"apple\", \"banana\", \"cherry\", \"orange\", \"kiwi\", \"melon\", \"mango\"]\n",
        "print(\"Sunconjunto de elmenento de lista9: \", lista9[2:5])\n",
        "#Al omitir el valor inicial, el rango comenzará en el primer elemento:\n",
        "#Al omitir el valor final, el rango pasará al final de la lista:\n",
        "lista10 = [\"apple\", \"banana\", \"cherry\", \"orange\", \"kiwi\", \"melon\", \"mango\"]\n",
        "print(\"Sunconjunto de elmenento de lista10: \", lista10[2:])"
      ],
      "metadata": {
        "colab": {
          "base_uri": "https://localhost:8080/"
        },
        "id": "oYneSuNWoXTv",
        "outputId": "df2cdde5-a788-4014-e180-d0c443f4b60e"
      },
      "execution_count": null,
      "outputs": [
        {
          "output_type": "stream",
          "name": "stdout",
          "text": [
            "Sunconjunto de elmenento de lista9:  ['cherry', 'orange', 'kiwi']\n",
            "Sunconjunto de elmenento de lista10:  ['cherry', 'orange', 'kiwi', 'melon', 'mango']\n"
          ]
        }
      ]
    },
    {
      "cell_type": "code",
      "source": [
        "#Agregamos nuevos elementos a una lista\n",
        "lista11 = [\"apple\", \"banana\", \"cherry\"]\n",
        "print(\"Elementos de la lista11: \",lista11)\n",
        "lista11.append(\"orange\")\n",
        "print(\"Elementos de la lista11 despues de usar append: \",lista11)"
      ],
      "metadata": {
        "colab": {
          "base_uri": "https://localhost:8080/"
        },
        "id": "7uLguzB9obaC",
        "outputId": "2ef42352-34ac-49d0-bd08-1ac9464befad"
      },
      "execution_count": null,
      "outputs": [
        {
          "output_type": "stream",
          "name": "stdout",
          "text": [
            "Elementos de la lista11:  ['apple', 'banana', 'cherry']\n",
            "Elementos de la lista11 despues de usar append:  ['apple', 'banana', 'cherry', 'orange']\n"
          ]
        }
      ]
    },
    {
      "cell_type": "code",
      "source": [
        "#Agregamos nuevos elementos a una lista en un indice especifico\n",
        "lista12 = [\"apple\", \"banana\", \"cherry\"]\n",
        "print(\"Elementos de la lista12: \",lista12)\n",
        "lista12.insert(1, \"orange\")\n",
        "print(\"Elementos de la lista12 despues de usar insert: \",lista12)"
      ],
      "metadata": {
        "colab": {
          "base_uri": "https://localhost:8080/"
        },
        "id": "rutK1qxUokj2",
        "outputId": "16b14212-c6af-4f5c-f8f4-0695addb27ce"
      },
      "execution_count": null,
      "outputs": [
        {
          "output_type": "stream",
          "name": "stdout",
          "text": [
            "Elementos de la lista12:  ['apple', 'banana', 'cherry']\n",
            "Elementos de la lista12 despues de usar insert:  ['apple', 'orange', 'banana', 'cherry']\n"
          ]
        }
      ]
    },
    {
      "cell_type": "code",
      "source": [
        "#Adjunta elementos de una lista a otra existente\n",
        "lista13 = [\"apple\", \"banana\", \"cherry\"]\n",
        "print(\"Elementos de la lista13: \",lista13)\n",
        "lista14 = [\"mango\", \"pineapple\", \"papaya\"]\n",
        "print(\"Elementos de la lista14: \",lista14)\n",
        "lista13.extend(lista14)\n",
        "print(\"Elementos de la lista13 despues de extend: \",lista13)"
      ],
      "metadata": {
        "colab": {
          "base_uri": "https://localhost:8080/"
        },
        "id": "u1cANF9IpCkR",
        "outputId": "efc927e2-22b0-4101-b426-f81c1b2dc07f"
      },
      "execution_count": null,
      "outputs": [
        {
          "output_type": "stream",
          "name": "stdout",
          "text": [
            "Elementos de la lista13:  ['apple', 'banana', 'cherry']\n",
            "Elementos de la lista14:  ['mango', 'pineapple', 'papaya']\n",
            "Elementos de la lista13 despues de extend:  ['apple', 'banana', 'cherry', 'mango', 'pineapple', 'papaya']\n"
          ]
        }
      ]
    },
    {
      "cell_type": "code",
      "source": [
        "#Eliminar banana de la lista:\n",
        "lista15 = [\"apple\", \"banana\", \"cherry\"]\n",
        "print(\"Elementos de la lista15: \",lista15)\n",
        "lista15.remove(\"banana\")\n",
        "print(\"Elementos de la lista15 despues de remove: \",lista15)"
      ],
      "metadata": {
        "colab": {
          "base_uri": "https://localhost:8080/"
        },
        "id": "J8JmS9RfpVBz",
        "outputId": "68cda2cd-780c-4d65-e135-6c5d9c1f1163"
      },
      "execution_count": null,
      "outputs": [
        {
          "output_type": "stream",
          "name": "stdout",
          "text": [
            "Elementos de la lista15:  ['apple', 'banana', 'cherry']\n",
            "Elementos de la lista15 despues de remove:  ['apple', 'cherry']\n"
          ]
        }
      ]
    },
    {
      "cell_type": "code",
      "source": [
        "#Eliminar el segundo elemento de la lista\n",
        "lista16 = [\"apple\", \"banana\", \"cherry\"]\n",
        "print(\"Elementos de la lista16: \",lista16)\n",
        "lista16.pop(1)\n",
        "print(\"Elementos de la lista16 despues de pop: \",lista16)"
      ],
      "metadata": {
        "colab": {
          "base_uri": "https://localhost:8080/"
        },
        "id": "t4HceEkypVso",
        "outputId": "e6fd7ebf-f4d6-4e13-f4f1-5b529fed58c5"
      },
      "execution_count": null,
      "outputs": [
        {
          "output_type": "stream",
          "name": "stdout",
          "text": [
            "Elementos de la lista16:  ['apple', 'banana', 'cherry']\n",
            "Elementos de la lista16 despues de pop:  ['apple', 'cherry']\n"
          ]
        }
      ]
    },
    {
      "cell_type": "code",
      "source": [
        "#Mostrar todos los elemetnos de la lista, uno por uno:\n",
        "lista17 = [\"apple\", \"banana\", \"cherry\"]\n",
        "for x in lista17:\n",
        "  print(\"Elemento: \", x)"
      ],
      "metadata": {
        "colab": {
          "base_uri": "https://localhost:8080/"
        },
        "id": "IM59fRglpV0b",
        "outputId": "b65a122b-5ffe-4c65-95ab-f9ff5aec1666"
      },
      "execution_count": null,
      "outputs": [
        {
          "output_type": "stream",
          "name": "stdout",
          "text": [
            "Elemento:  apple\n",
            "Elemento:  banana\n",
            "Elemento:  cherry\n"
          ]
        }
      ]
    },
    {
      "cell_type": "markdown",
      "source": [
        "### Tuplas en python"
      ],
      "metadata": {
        "id": "RwUEsBxZo8cf"
      }
    },
    {
      "cell_type": "code",
      "source": [
        " #Creacion de una tupla\n",
        "tupla1 = (\"apple\", \"banana\", \"cherry\")\n",
        "print(\"Elementos de la tupla1: \",tupla1)"
      ],
      "metadata": {
        "colab": {
          "base_uri": "https://localhost:8080/"
        },
        "id": "vCOUkK_2pieG",
        "outputId": "03366a60-a8d1-409d-92fd-3df96f8eeaf5"
      },
      "execution_count": null,
      "outputs": [
        {
          "output_type": "stream",
          "name": "stdout",
          "text": [
            "Elementos de la tupla1:  ('apple', 'banana', 'cherry')\n"
          ]
        }
      ]
    },
    {
      "cell_type": "code",
      "source": [
        " #Las tuplas permiten valores duplicados\n",
        "tupla2 = (\"apple\", \"banana\", \"cherry\", \"apple\", \"cherry\")\n",
        "print(\"Elementos de la tupla2: \",tupla2)"
      ],
      "metadata": {
        "colab": {
          "base_uri": "https://localhost:8080/"
        },
        "id": "sLVBtvWhpk1H",
        "outputId": "470d8833-7270-41f9-9f21-f679d7fd3f3e"
      },
      "execution_count": null,
      "outputs": [
        {
          "output_type": "stream",
          "name": "stdout",
          "text": [
            "Elementos de la tupla2:  ('apple', 'banana', 'cherry', 'apple', 'cherry')\n"
          ]
        }
      ]
    },
    {
      "cell_type": "code",
      "source": [
        "#Una tupla\n",
        "tupla3 = (\"apple\",)\n",
        "print(\"Elementos de la tupla3: \",tupla2)\n",
        "#Un elemento que no es tupla\n",
        "noTupla = (\"apple\")\n",
        "print(noTupla)\n",
        "print(type(noTupla))"
      ],
      "metadata": {
        "colab": {
          "base_uri": "https://localhost:8080/"
        },
        "id": "7pCfKR_2pmhy",
        "outputId": "067bd4c2-f02e-4d19-b67c-970c68d184d3"
      },
      "execution_count": null,
      "outputs": [
        {
          "output_type": "stream",
          "name": "stdout",
          "text": [
            "Elementos de la tupla3:  ('apple', 'banana', 'cherry', 'apple', 'cherry')\n",
            "apple\n",
            "<class 'str'>\n"
          ]
        }
      ]
    },
    {
      "cell_type": "code",
      "source": [
        "tupla4 = (\"apple\", \"banana\", \"cherry\")\n",
        "print(\"Elementos de la tupla4: \",tupla4)\n",
        "tupla5 = (1, 5, 7, 9, 3)\n",
        "print(\"Elementos de la tupla5: \",tupla5)\n",
        "tupla6 = (True, False, False)\n",
        "print(\"Elementos de la tupla5: \",tupla6)\n",
        "tupla7 = (\"abc\", 34, True, 40, \"male\")\n",
        "print(\"Elementos de la tupla5: \",tupla7)"
      ],
      "metadata": {
        "colab": {
          "base_uri": "https://localhost:8080/"
        },
        "id": "YSEEazc5ptN8",
        "outputId": "40026242-3a4e-41c1-a090-dd85ac9375cd"
      },
      "execution_count": null,
      "outputs": [
        {
          "output_type": "stream",
          "name": "stdout",
          "text": [
            "Elementos de la tupla4:  ('apple', 'banana', 'cherry')\n",
            "Elementos de la tupla5:  (1, 5, 7, 9, 3)\n",
            "Elementos de la tupla5:  (True, False, False)\n",
            "Elementos de la tupla5:  ('abc', 34, True, 40, 'male')\n"
          ]
        }
      ]
    },
    {
      "cell_type": "code",
      "source": [
        "#Mostrar el segundo elemento de la tupla\n",
        "tupla8 = (\"apple\", \"banana\", \"cherry\")\n",
        "print(\"Elementos de la tupla8: \",tupla8[1])"
      ],
      "metadata": {
        "colab": {
          "base_uri": "https://localhost:8080/"
        },
        "id": "wco0tiYGpvDY",
        "outputId": "6ca2c095-0802-40c6-a488-5cc99d2b077c"
      },
      "execution_count": null,
      "outputs": [
        {
          "output_type": "stream",
          "name": "stdout",
          "text": [
            "Elementos de la tupla8:  banana\n"
          ]
        }
      ]
    },
    {
      "cell_type": "code",
      "source": [
        "#Muestra el último elemento de la tupla\n",
        "tupla9 = (\"apple\", \"banana\", \"cherry\")\n",
        "print(\"Elementos de la tupla9: \",tupla9[-1])"
      ],
      "metadata": {
        "colab": {
          "base_uri": "https://localhost:8080/"
        },
        "id": "Ul4NYxYup1RN",
        "outputId": "c7ab5ff8-8d70-4994-b422-1172df7cd54e"
      },
      "execution_count": null,
      "outputs": [
        {
          "output_type": "stream",
          "name": "stdout",
          "text": [
            "Elementos de la tupla9:  cherry\n"
          ]
        }
      ]
    },
    {
      "cell_type": "code",
      "source": [
        "#Devuelve el tercer, cuarto y quinto elemento\n",
        "tupla10 = (\"apple\", \"banana\", \"cherry\", \"orange\", \"kiwi\", \"melon\", \"mango\")\n",
        "print(\"Elementos de la tupla10: \",tupla10[2:5])\n",
        "#Este ejemplo devuelve los elementos desde el principio hasta el elemento kiwi\n",
        "tupla11 = (\"apple\", \"banana\", \"cherry\", \"orange\", \"kiwi\", \"melon\", \"mango\")\n",
        "print(\"Elementos de la tupla11: \",tupla11[:4])\n",
        "#Este ejemplo devuelve los elementos desde \"cereza\" hasta el final\n",
        "tupla12 = (\"apple\", \"banana\", \"cherry\", \"orange\", \"kiwi\", \"melon\", \"mango\")\n",
        "print(\"Elementos de la tupla12: \",tupla12[2:])"
      ],
      "metadata": {
        "colab": {
          "base_uri": "https://localhost:8080/"
        },
        "id": "6rYLxgtap69p",
        "outputId": "34ba1195-d92a-4238-9ff0-5134dc75d324"
      },
      "execution_count": null,
      "outputs": [
        {
          "output_type": "stream",
          "name": "stdout",
          "text": [
            "Elementos de la tupla10:  ('cherry', 'orange', 'kiwi')\n",
            "Elementos de la tupla11:  ('apple', 'banana', 'cherry', 'orange')\n",
            "Elementos de la tupla12:  ('cherry', 'orange', 'kiwi', 'melon', 'mango')\n"
          ]
        }
      ]
    },
    {
      "cell_type": "code",
      "source": [
        " #Este ejemplo devuelve los elementos del índice -4 (incluido) al índice -1 􏰀→(excluido)\n",
        "tupla13 = (\"apple\", \"banana\", \"cherry\", \"orange\", \"kiwi\", \"melon\", \"mango\")\n",
        "print(\"Elementos de la tupla13: \",tupla13[-4:-1])"
      ],
      "metadata": {
        "colab": {
          "base_uri": "https://localhost:8080/"
        },
        "id": "pTTISn5op-nE",
        "outputId": "d110b3b0-5d15-42a2-cfe1-b12dfc9f4949"
      },
      "execution_count": null,
      "outputs": [
        {
          "output_type": "stream",
          "name": "stdout",
          "text": [
            "Elementos de la tupla13:  ('orange', 'kiwi', 'melon')\n"
          ]
        }
      ]
    },
    {
      "cell_type": "code",
      "source": [
        " #Cambiar elementos de una tupla\n",
        "tupla14 = (\"apple\", \"banana\", \"cherry\")\n",
        "print(\"Elementos de la tupla14: \",tupla14)\n",
        "lista = list(tupla14)\n",
        "lista[1] = \"kiwi\"\n",
        "tupla14  = tuple(lista)\n",
        "print(\"Elementos de la tupla14: \",tupla14)"
      ],
      "metadata": {
        "colab": {
          "base_uri": "https://localhost:8080/"
        },
        "id": "EZF8Llq1qAtj",
        "outputId": "7ce8fd00-7592-4b6c-ad8b-f0bb44ac65ab"
      },
      "execution_count": null,
      "outputs": [
        {
          "output_type": "stream",
          "name": "stdout",
          "text": [
            "Elementos de la tupla14:  ('apple', 'banana', 'cherry')\n",
            "Elementos de la tupla14:  ('apple', 'kiwi', 'cherry')\n"
          ]
        }
      ]
    },
    {
      "cell_type": "code",
      "source": [
        "#Iterar a través de los elementos de la tupla y mostrara los valores\n",
        "tupla15 = (\"apple\", \"banana\", \"cherry\")\n",
        "for x in tupla15:\n",
        "  print(x)"
      ],
      "metadata": {
        "colab": {
          "base_uri": "https://localhost:8080/"
        },
        "id": "w_bQwcR-qRts",
        "outputId": "87c495d0-86ca-44e7-b766-c267fe241517"
      },
      "execution_count": null,
      "outputs": [
        {
          "output_type": "stream",
          "name": "stdout",
          "text": [
            "apple\n",
            "banana\n",
            "cherry\n"
          ]
        }
      ]
    },
    {
      "cell_type": "markdown",
      "source": [
        "### Diccionarios en python"
      ],
      "metadata": {
        "id": "Tgou0Ajzoy5Z"
      }
    },
    {
      "cell_type": "code",
      "source": [
        " #Creacion de un diccionario\n",
        "diccionario1 = {\n",
        "  \"brand\": \"Ford\",\n",
        "  \"model\": \"Mustang\",\n",
        "  \"year\": 1964\n",
        "}\n",
        "#Mostramos los valores del diccionario\n",
        "print(\"Elementos del diccionario1: \",diccionario1)"
      ],
      "metadata": {
        "colab": {
          "base_uri": "https://localhost:8080/"
        },
        "id": "rj-tQ_zbrvnN",
        "outputId": "3e384050-6dcb-4f3b-faa2-c29235a4209c"
      },
      "execution_count": null,
      "outputs": [
        {
          "output_type": "stream",
          "name": "stdout",
          "text": [
            "Elementos del diccionario1:  {'brand': 'Ford', 'model': 'Mustang', 'year': 1964}\n"
          ]
        }
      ]
    },
    {
      "cell_type": "code",
      "source": [
        "#Creacion de un diccionario\n",
        "diccionario2 = {\n",
        "  \"brand\": \"Ford\",\n",
        "  \"model\": \"Mustang\",\n",
        "  \"year\": 1964\n",
        "}\n",
        "#Mostramos los valores del diccionario\n",
        "print(\"Elemento del diccionario2: \",diccionario2[\"brand\"])"
      ],
      "metadata": {
        "colab": {
          "base_uri": "https://localhost:8080/"
        },
        "id": "_QXsexQzr3BD",
        "outputId": "16d96c14-ee0f-4a2a-ceb5-9a6f4bd3d6c7"
      },
      "execution_count": null,
      "outputs": [
        {
          "output_type": "stream",
          "name": "stdout",
          "text": [
            "Elemento del diccionario2:  Ford\n"
          ]
        }
      ]
    },
    {
      "cell_type": "code",
      "source": [
        " #Creacion de un diccionario\n",
        "diccionario3 = {\n",
        "  \"brand\": \"Ford\",\n",
        "  \"model\": \"Mustang\",\n",
        "  \"year\": 1964,\n",
        "  \"year\": 2020\n",
        "}\n",
        "#Mostramos los valores del diccionario\n",
        "print(\"Elementos del diccionario3: \",diccionario3)"
      ],
      "metadata": {
        "colab": {
          "base_uri": "https://localhost:8080/"
        },
        "id": "A3YmS8yHr54h",
        "outputId": "08f1bdc8-9d61-4c34-84e4-c5ba2968b493"
      },
      "execution_count": null,
      "outputs": [
        {
          "output_type": "stream",
          "name": "stdout",
          "text": [
            "Elementos del diccionario3:  {'brand': 'Ford', 'model': 'Mustang', 'year': 2020}\n"
          ]
        }
      ]
    },
    {
      "cell_type": "code",
      "source": [
        " #Tipos de datos de cadena, entero, booleanos y de lista\n",
        "diccionario4 = {\n",
        "  \"brand\": \"Ford\",\n",
        "  \"electric\": False,\n",
        "  \"year\": 1964,\n",
        "  \"colors\": [\"red\", \"white\", \"blue\"]\n",
        "}\n",
        "#Mostramos los valores del diccionario\n",
        "print(\"Elementos del diccionario4: \",diccionario4)"
      ],
      "metadata": {
        "colab": {
          "base_uri": "https://localhost:8080/"
        },
        "id": "RNk63xT3r9Kf",
        "outputId": "797adca3-3e5e-4951-ed7f-c74da0fd123b"
      },
      "execution_count": null,
      "outputs": [
        {
          "output_type": "stream",
          "name": "stdout",
          "text": [
            "Elementos del diccionario4:  {'brand': 'Ford', 'electric': False, 'year': 1964, 'colors': ['red', 'white', 'blue']}\n"
          ]
        }
      ]
    },
    {
      "cell_type": "code",
      "source": [
        " #Obtener el valor de la clave \"modelo\"\n",
        "diccionario5 = {\n",
        "  \"brand\": \"Ford\",\n",
        "  \"model\": \"Mustang\",\n",
        "  \"year\": 1964\n",
        "}\n",
        "x = diccionario5[\"model\"]"
      ],
      "metadata": {
        "id": "l2S8iKQesAwK"
      },
      "execution_count": null,
      "outputs": []
    },
    {
      "cell_type": "code",
      "source": [
        " ##Creacion de un diccionario\n",
        "diccionario6 = {\n",
        "\"brand\": \"Ford\",\n",
        "\"model\": \"Mustang\",\n",
        "\"year\": 1964\n",
        "}\n",
        "#Obtener todas las claves/llaves de un diccionario\n",
        "x = diccionario6.keys()\n",
        "#Antes del cambio\n",
        "print(x)\n",
        "diccionario6[\"color\"] = \"white\"\n",
        "#Después del cambio\n",
        "print(x)"
      ],
      "metadata": {
        "colab": {
          "base_uri": "https://localhost:8080/"
        },
        "id": "YT1WR72zsCq3",
        "outputId": "7d0f083a-73f0-4892-b120-dbc1a0878438"
      },
      "execution_count": null,
      "outputs": [
        {
          "output_type": "stream",
          "name": "stdout",
          "text": [
            "dict_keys(['brand', 'model', 'year'])\n",
            "dict_keys(['brand', 'model', 'year', 'color'])\n"
          ]
        }
      ]
    },
    {
      "cell_type": "code",
      "source": [
        " #Creacion de un diccionario\n",
        "diccionario7 = {\n",
        "  \"brand\": \"Ford\",\n",
        "  \"model\": \"Mustang\",\n",
        "  \"year\": 1964\n",
        "}\n",
        "#Change disctionary entry value\n",
        "diccionario7[\"color\"] = \"red\"\n",
        "#Mostramos los valores del diccionario\n",
        "print(\"Elementos del diccionario7: \",diccionario7)"
      ],
      "metadata": {
        "colab": {
          "base_uri": "https://localhost:8080/"
        },
        "id": "A5XrMgocsEx0",
        "outputId": "cd1bc82b-18b3-4bbf-b97d-a2021c3daa15"
      },
      "execution_count": null,
      "outputs": [
        {
          "output_type": "stream",
          "name": "stdout",
          "text": [
            "Elementos del diccionario7:  {'brand': 'Ford', 'model': 'Mustang', 'year': 1964, 'color': 'red'}\n"
          ]
        }
      ]
    },
    {
      "cell_type": "code",
      "source": [
        " #Creacion de un diccionario\n",
        "diccionario8 = {\n",
        "  \"brand\": \"Ford\",\n",
        "  \"model\": \"Mustang\",\n",
        "  \"year\": 1964\n",
        "}\n",
        "#Mostramos los valores del diccionario antes\n",
        "print(\"Elementos del diccionario8: \",diccionario8)\n",
        "#Eliminamos una entrada especifica del diccionario\n",
        "del diccionario8[\"model\"]\n",
        "#Mostramos los valores del diccionario despues\n",
        "print(\"Elementos del diccionario8: \",diccionario7)"
      ],
      "metadata": {
        "colab": {
          "base_uri": "https://localhost:8080/"
        },
        "id": "nHbq5jfOsG4C",
        "outputId": "0b9c6fff-fb5e-4913-f4b6-245b0309c03b"
      },
      "execution_count": null,
      "outputs": [
        {
          "output_type": "stream",
          "name": "stdout",
          "text": [
            "Elementos del diccionario8:  {'brand': 'Ford', 'model': 'Mustang', 'year': 1964}\n",
            "Elementos del diccionario8:  {'brand': 'Ford', 'model': 'Mustang', 'year': 1964, 'color': 'red'}\n"
          ]
        }
      ]
    },
    {
      "cell_type": "code",
      "source": [
        " #Creacion de un diccionario\n",
        "diccionario9 = {\n",
        "  \"brand\": \"Ford\",\n",
        "  \"model\": \"Mustang\",\n",
        "  \"year\": 1964\n",
        "}\n",
        "print(\"claves/llaves del diccionario 9:\")\n",
        "#Se muestran las claves/llaves del diccionario\n",
        "for x in diccionario9:\n",
        "  print(x)\n",
        "\n",
        "print(\"claves/llaves y valores del diccionario9:\")\n",
        "#Se muestran lo valores asociados a cada clave/llave\n",
        "for x in diccionario9:\n",
        "  print(\"Llave: \",x,\", valor: \",diccionario9[x])"
      ],
      "metadata": {
        "colab": {
          "base_uri": "https://localhost:8080/"
        },
        "id": "TB8xs5zbsLXE",
        "outputId": "2abf2938-b0b4-409d-cb32-bd3f35f4b493"
      },
      "execution_count": null,
      "outputs": [
        {
          "output_type": "stream",
          "name": "stdout",
          "text": [
            "claves/llaves del diccionario 9:\n",
            "brand\n",
            "model\n",
            "year\n",
            "claves/llaves y valores del diccionario9:\n",
            "Llave:  brand , valor:  Ford\n",
            "Llave:  model , valor:  Mustang\n",
            "Llave:  year , valor:  1964\n"
          ]
        }
      ]
    },
    {
      "cell_type": "markdown",
      "source": [
        "### Función zip para bucles/ciclos"
      ],
      "metadata": {
        "id": "Lobuw5SLsfLY"
      }
    },
    {
      "cell_type": "code",
      "source": [
        "#Crear dos tuplas del mismo tamaño\n",
        "tupla1 = (\"John\", \"Charles\", \"Mike\")\n",
        "tupla2 = (\"Jenny\", \"Christy\", \"Monica\")\n",
        "#We need to iterate over there to get one element of each tuple at a time\n",
        "x = zip(tupla1, tupla2)\n",
        "#Iteracion\n",
        "print(\"Elementos de la tupla1 y tupla2: \")\n",
        "for y in x:\n",
        "  print(y)"
      ],
      "metadata": {
        "colab": {
          "base_uri": "https://localhost:8080/"
        },
        "id": "0TPnUMNVsii5",
        "outputId": "06dbbd51-166a-4f38-d4d2-b60a6b416e6a"
      },
      "execution_count": null,
      "outputs": [
        {
          "output_type": "stream",
          "name": "stdout",
          "text": [
            "Elementos de la tupla1 y tupla2: \n",
            "('John', 'Jenny')\n",
            "('Charles', 'Christy')\n",
            "('Mike', 'Monica')\n"
          ]
        }
      ]
    },
    {
      "cell_type": "code",
      "source": [
        " ##Crear dos tuplas de distinto tamaño\n",
        "tupla3 = (\"John\", \"Charles\", \"Mike\")\n",
        "tupla4 = (\"Jenny\", \"Christy\", \"Monica\", \"Vicky\")\n",
        "x = zip(tupla3, tupla4)\n",
        "#Iteracion\n",
        "print(\"Elementos de la tupla3 y tupla4: \")\n",
        "for y in x:\n",
        "  print(y)"
      ],
      "metadata": {
        "colab": {
          "base_uri": "https://localhost:8080/"
        },
        "id": "t9ULlRoZstv8",
        "outputId": "53adfa0f-6093-4829-d5b4-21f4f2fd0f11"
      },
      "execution_count": null,
      "outputs": [
        {
          "output_type": "stream",
          "name": "stdout",
          "text": [
            "Elementos de la tupla3 y tupla4: \n",
            "('John', 'Jenny')\n",
            "('Charles', 'Christy')\n",
            "('Mike', 'Monica')\n"
          ]
        }
      ]
    },
    {
      "cell_type": "code",
      "source": [
        " #Crear dos listas de python\n",
        "lista1 = ['Alpha', 'Beta', 'Gamma', 'Sigma']\n",
        "lista2 = ['one', 'two', 'three', 'six']\n",
        " #Aplicamos la funcion zip\n",
        "prueba = zip(lista1, lista2)  # zip the values\n",
        "print(\"Mostramos los elementos de la variable resultante\")\n",
        "for valores in prueba:\n",
        "    print(valores)  # se muestra cada tupla"
      ],
      "metadata": {
        "colab": {
          "base_uri": "https://localhost:8080/"
        },
        "id": "F2H3EkMBsxAF",
        "outputId": "c86eb355-4855-4668-cbc3-b2a43874f2df"
      },
      "execution_count": null,
      "outputs": [
        {
          "output_type": "stream",
          "name": "stdout",
          "text": [
            "Mostramos los elementos de la variable resultante\n",
            "('Alpha', 'one')\n",
            "('Beta', 'two')\n",
            "('Gamma', 'three')\n",
            "('Sigma', 'six')\n"
          ]
        }
      ]
    },
    {
      "cell_type": "code",
      "source": [],
      "metadata": {
        "id": "C7yo4EsKt6xp"
      },
      "execution_count": null,
      "outputs": []
    },
    {
      "cell_type": "markdown",
      "source": [
        "### Archivos en python"
      ],
      "metadata": {
        "id": "NpItY5Hpt8W4"
      }
    },
    {
      "cell_type": "markdown",
      "source": [
        "#### Abrir archivos en python"
      ],
      "metadata": {
        "id": "JJYpxwluXktu"
      }
    },
    {
      "cell_type": "code",
      "source": [
        " #Es necesario usar una libreia para manejo del sistema operativo\n",
        "import os\n",
        "'''\n",
        "Importamos la libreria estandar de colab para montar un\n",
        "sistema de Google Drive\n",
        "'''\n",
        "from google.colab import drive\n",
        "#Montamos nuestra unidad de Google Drive\n",
        "drive.mount('/content/drive')\n",
        "path='/content/drive/My Drive/Colab Notebooks/laboratorio3/'\n",
        "# Abrir archivo usando la ruta completa\n",
        "f = open(path+\"test.txt\")"
      ],
      "metadata": {
        "colab": {
          "base_uri": "https://localhost:8080/"
        },
        "id": "lO2kTW10uA8-",
        "outputId": "f1e14a2b-20fb-431e-a03b-819e7b91e364"
      },
      "execution_count": null,
      "outputs": [
        {
          "output_type": "stream",
          "name": "stdout",
          "text": [
            "Drive already mounted at /content/drive; to attempt to forcibly remount, call drive.mount(\"/content/drive\", force_remount=True).\n"
          ]
        }
      ]
    },
    {
      "cell_type": "code",
      "source": [
        " #Es necesario usar una libreia para manejo del sistema operativo\n",
        "import os\n",
        "'''\n",
        "Importamos la libreria estandar de colab para montar un\n",
        "sistema de Google Drive\n",
        "'''\n",
        "from google.colab import drive\n",
        "#Montamos nuestra unidad de Google Drive\n",
        "path='/content/drive/My Drive/Colab Notebooks/laboratorio3/'\n",
        "# Abrir archivo en modo lectura\n",
        "f = open(path+\"test.txt\",\"r\")"
      ],
      "metadata": {
        "id": "AOSHAULzuRm-"
      },
      "execution_count": null,
      "outputs": []
    },
    {
      "cell_type": "markdown",
      "source": [
        "#### Cerrar archivos en Python"
      ],
      "metadata": {
        "id": "z1hW3zDsXdTh"
      }
    },
    {
      "cell_type": "code",
      "source": [
        " #Es necesario usar una libreia para manejo del sistema operativo\n",
        "import os\n",
        "'''\n",
        "Importamos la libreria estandar de colab para montar un\n",
        "sistema de Google Drive\n",
        "'''\n",
        "from google.colab import drive\n",
        "#Montamos nuestra unidad de Google Drive previamente montada en scripts anteriores\n",
        "path='/content/drive/My Drive/Colab Notebooks/laboratorio3/'\n",
        "# Abrir archivo en modo lectura\n",
        "f = open(path+\"test.txt\",\"r\")\n",
        "\"\"\"\n",
        "Trabajamos con el archivo\n",
        "\"\"\"\n",
        "#Cerramos el archivo\n",
        "f.close()"
      ],
      "metadata": {
        "id": "TAJUOth1uUCD"
      },
      "execution_count": null,
      "outputs": []
    },
    {
      "cell_type": "code",
      "source": [
        " #Es necesario usar una libreia para manejo del sistema operativo\n",
        "import os\n",
        "'''\n",
        "Importamos la libreria estandar de colab para montar un\n",
        "sistema de Google Drive\n",
        "'''\n",
        "from google.colab import drive\n",
        "#Montamos nuestra unidad de Google Drive\n",
        "path='/content/drive/My Drive/Colab Notebooks/laboratorio3/'\n",
        "#Bloque de ejecucion seguro\n",
        "try:\n",
        "   f = open(path+\"test.txt\", \"r\")\n",
        "   # Realizamos operaciones sobre el archivo\n",
        "finally:\n",
        "   f.close()"
      ],
      "metadata": {
        "id": "is-MHu4RuUJ5"
      },
      "execution_count": null,
      "outputs": []
    },
    {
      "cell_type": "code",
      "source": [
        " #Es necesario usar una libreia para manejo del sistema operativo\n",
        "import os\n",
        "'''\n",
        "Importamos la libreria estandar de colab para montar un\n",
        "sistema de Google Drive\n",
        "'''\n",
        "from google.colab import drive\n",
        "#Montamos nuestra unidad de Google Drive\n",
        "drive.mount('/content/drive')\n",
        "path='/content/drive/My Drive/Colab Notebooks/laboratorio3/'\n",
        "#Abrimos un archivo usando la cláusula with\n",
        "with open(path+\"test.txt\", \"r\") as f:\n",
        "  #Realizamos operaciones sobre el archivo"
      ],
      "metadata": {
        "colab": {
          "base_uri": "https://localhost:8080/",
          "height": 134
        },
        "id": "LpQUPgFfuejJ",
        "outputId": "e24cc29f-659e-43d6-e4ea-0bd70fd0b1fe"
      },
      "execution_count": null,
      "outputs": [
        {
          "output_type": "error",
          "ename": "SyntaxError",
          "evalue": "ignored",
          "traceback": [
            "\u001b[0;36m  File \u001b[0;32m\"<ipython-input-15-af14b235c2fc>\"\u001b[0;36m, line \u001b[0;32m13\u001b[0m\n\u001b[0;31m    #Realizamos operaciones sobre el archivo\u001b[0m\n\u001b[0m                                            ^\u001b[0m\n\u001b[0;31mSyntaxError\u001b[0m\u001b[0;31m:\u001b[0m unexpected EOF while parsing\n"
          ]
        }
      ]
    },
    {
      "cell_type": "markdown",
      "source": [
        "### Escribir archivos en Python"
      ],
      "metadata": {
        "id": "7XWnOvBYXVFQ"
      }
    },
    {
      "cell_type": "code",
      "source": [
        "#Es necesario usar una libreia para manejo del sistema operativo\n",
        "import os\n",
        "'''\n",
        "Importamos la libreria estandar de colab para montar un\n",
        "sistema de Google Drive\n",
        "'''\n",
        "from google.colab import drive\n",
        "#Montamos nuestra unidad de Google Drive\n",
        "path='/content/drive/My Drive/Colab Notebooks/laboratorio3/'\n",
        "#Create un nuevo archivo\n",
        "with open(path+\"test1.txt\",'w') as f:\n",
        "   f.write(\"my first file\\n\")\n",
        "   f.write(\"This file\\n\\n\")\n",
        "   f.write(\"contains three lines\\n\")"
      ],
      "metadata": {
        "id": "vFeMjK6ZQlk7"
      },
      "execution_count": null,
      "outputs": []
    },
    {
      "cell_type": "markdown",
      "source": [
        "### Lectura de archivos en python"
      ],
      "metadata": {
        "id": "Fq1okBIRXNyj"
      }
    },
    {
      "cell_type": "code",
      "source": [
        "#Es necesario usar una libreia para manejo del sistema operativo\n",
        "import os\n",
        "'''\n",
        "Importamos la libreria estandar de colab para montar un\n",
        "sistema de Google Drive\n",
        "'''\n",
        "from google.colab import drive\n",
        "#Montamos nuestra unidad de Google Drive\n",
        "path='/content/drive/My Drive/Colab Notebooks/laboratorio3/'\n",
        "print(\"\\nLineas de texto en el archivo:\\n\")\n",
        "#Leer un archivo txt usando Python\n",
        "with open(path+\"test.txt\",'r') as f:\n",
        "    for x in f:\n",
        "       #mostramos cada linea del archivo\n",
        "       print(x)"
      ],
      "metadata": {
        "colab": {
          "base_uri": "https://localhost:8080/"
        },
        "id": "dcURzwCXRJOu",
        "outputId": "6ccd8e5a-e5ce-42d0-aa73-92b3df79e96e"
      },
      "execution_count": null,
      "outputs": [
        {
          "output_type": "stream",
          "name": "stdout",
          "text": [
            "\n",
            "Lineas de texto en el archivo:\n",
            "\n",
            "This is a file with multiple\n",
            "\n",
            "lines of text that helps to\n",
            "\n",
            "understand the Python\n",
            "\n"
          ]
        }
      ]
    },
    {
      "cell_type": "code",
      "source": [
        "#Es necesario usar una libreia para manejo del sistema operativo\n",
        "import os\n",
        "'''\n",
        "Importamos la libreria estandar de colab para montar un\n",
        "sistema de Google Drive\n",
        "'''\n",
        "from google.colab import drive\n",
        "#Montamos nuestra unidad de Google Drive\n",
        "path='/content/drive/My Drive/Colab Notebooks/laboratorio3/'\n",
        "print(\"\\nPrimeras dos lineas de texto en el archivo:\\n\")\n",
        "with open(path+\"test.txt\",'r') as f:\n",
        "    print(f.readline())\n",
        "    print(f.readline())"
      ],
      "metadata": {
        "colab": {
          "base_uri": "https://localhost:8080/"
        },
        "id": "OcPd3B-LViAj",
        "outputId": "9db106d2-1706-476d-dfaf-60fa28058198"
      },
      "execution_count": null,
      "outputs": [
        {
          "output_type": "stream",
          "name": "stdout",
          "text": [
            "\n",
            "Primeras dos lineas de texto en el archivo:\n",
            "\n",
            "This is a file with multiple\n",
            "\n",
            "lines of text that helps to\n",
            "\n"
          ]
        }
      ]
    },
    {
      "cell_type": "markdown",
      "source": [
        "### Funciones de Python"
      ],
      "metadata": {
        "id": "skY09YzfaTqt"
      }
    },
    {
      "cell_type": "markdown",
      "source": [
        "#### Crear una función en python"
      ],
      "metadata": {
        "id": "XuZJWF0laZsd"
      }
    },
    {
      "cell_type": "code",
      "source": [
        "#Crear una función en Python\n",
        "def funcion1():\n",
        "  print(\"Hello from a function\")"
      ],
      "metadata": {
        "id": "3U-w8tYLaXaO"
      },
      "execution_count": null,
      "outputs": []
    },
    {
      "cell_type": "markdown",
      "source": [
        "#### Llamar a una función en python"
      ],
      "metadata": {
        "id": "y2Ct7MZ-aj0k"
      }
    },
    {
      "cell_type": "code",
      "source": [
        "#Creamos una funcion\n",
        "def funcion2():\n",
        "  print(\"Hello from a function\")\n",
        "#Llamamos a la funcion del codigo principal\n",
        "funcion2()"
      ],
      "metadata": {
        "colab": {
          "base_uri": "https://localhost:8080/"
        },
        "id": "jv0Wgg2SaiQl",
        "outputId": "b2047537-e5d6-4af6-d7e8-b8671767869e"
      },
      "execution_count": null,
      "outputs": [
        {
          "output_type": "stream",
          "name": "stdout",
          "text": [
            "Hello from a function\n"
          ]
        }
      ]
    },
    {
      "cell_type": "markdown",
      "source": [
        "#### Argumentos de función en python"
      ],
      "metadata": {
        "id": "HIyhFGmpaqwa"
      }
    },
    {
      "cell_type": "code",
      "source": [
        "#Creamos una funcion\n",
        "def funcion3(nombre):\n",
        "  print(nombre + \" Smith\")\n",
        "#La llamamos desde el codigo principal\n",
        "funcion3(\"Emil\")\n",
        "funcion3(\"Tobias\")\n",
        "funcion3(\"Linus\")"
      ],
      "metadata": {
        "colab": {
          "base_uri": "https://localhost:8080/"
        },
        "id": "YqWI60Eda--O",
        "outputId": "f0a6452a-c98e-4dcb-e05c-10a4ab521bc9"
      },
      "execution_count": null,
      "outputs": [
        {
          "output_type": "stream",
          "name": "stdout",
          "text": [
            "Emil Smith\n",
            "Tobias Smith\n",
            "Linus Smith\n"
          ]
        }
      ]
    },
    {
      "cell_type": "markdown",
      "source": [
        "#### Número de argumentos en python"
      ],
      "metadata": {
        "id": "XHwG33NSbH1L"
      }
    },
    {
      "cell_type": "code",
      "source": [
        "#Esta función espera 2 argumentos y obtiene 2 argumentos\n",
        "def funcion4(a, b):\n",
        "  print(a + \" \" + b)\n",
        "funcion4(\"Emil\", \"Smith\")\n",
        "#Si intenta llamar a la función con 1 o 3 argumentos, obtendrá un error:\n",
        "#funcion4(\"Emil\")"
      ],
      "metadata": {
        "colab": {
          "base_uri": "https://localhost:8080/"
        },
        "id": "cE758TgcbEyY",
        "outputId": "a9096ee3-e4eb-4c7b-eb10-4654ed143279"
      },
      "execution_count": null,
      "outputs": [
        {
          "output_type": "stream",
          "name": "stdout",
          "text": [
            "Emil Smith\n"
          ]
        }
      ]
    },
    {
      "cell_type": "markdown",
      "source": [
        "#### Valores de parámetros predeterminados"
      ],
      "metadata": {
        "id": "v7w1_gLQbUot"
      }
    },
    {
      "cell_type": "code",
      "source": [
        "#Se crea una funcion con parametros con default\n",
        "def funcion5(country = \"Norway\"):\n",
        "  print(\"Yo soy de \" + country)\n",
        "funcion5(\"Sweden\")\n",
        "funcion5(\"India\")\n",
        "funcion5()\n",
        "funcion5(\"Brazil\")"
      ],
      "metadata": {
        "colab": {
          "base_uri": "https://localhost:8080/"
        },
        "id": "8fOybXvabPBr",
        "outputId": "08f87e90-2ab7-434b-ed9e-7ff1526f20a3"
      },
      "execution_count": null,
      "outputs": [
        {
          "output_type": "stream",
          "name": "stdout",
          "text": [
            "Yo soy de Sweden\n",
            "Yo soy de India\n",
            "Yo soy de Norway\n",
            "Yo soy de Brazil\n"
          ]
        }
      ]
    },
    {
      "cell_type": "markdown",
      "source": [
        "#### Pasar una estructura no primitiva como argumento"
      ],
      "metadata": {
        "id": "cwLhEXx9bevs"
      }
    },
    {
      "cell_type": "code",
      "source": [
        " #Crear una función que tome una lista como argumento\n",
        "def funcion6(food):\n",
        "  for x in food:\n",
        "    print(x)\n",
        "fruits = [\"apple\", \"banana\", \"cherry\"]\n",
        "funcion6(fruits)"
      ],
      "metadata": {
        "colab": {
          "base_uri": "https://localhost:8080/"
        },
        "id": "bssmRidEbc3E",
        "outputId": "7dd12bd7-89be-4578-c1a3-3e6bdd4c09ef"
      },
      "execution_count": null,
      "outputs": [
        {
          "output_type": "stream",
          "name": "stdout",
          "text": [
            "apple\n",
            "banana\n",
            "cherry\n"
          ]
        }
      ]
    },
    {
      "cell_type": "markdown",
      "source": [
        "#### Valores devuletos en python"
      ],
      "metadata": {
        "id": "YEd9nCevcu6K"
      }
    },
    {
      "cell_type": "code",
      "source": [
        " #Declaracion de la funcion\n",
        "def funcion7(x):\n",
        "  return 5 * x\n",
        "#Llamar a la funcion\n",
        "print(funcion7(3))\n",
        "print(funcion7(5))\n",
        "print(funcion7(9))"
      ],
      "metadata": {
        "colab": {
          "base_uri": "https://localhost:8080/"
        },
        "id": "D31jxMbAcgr2",
        "outputId": "12e649c3-c994-4bd7-af4c-f6519a052fe6"
      },
      "execution_count": null,
      "outputs": [
        {
          "output_type": "stream",
          "name": "stdout",
          "text": [
            "15\n",
            "25\n",
            "45\n"
          ]
        }
      ]
    },
    {
      "cell_type": "markdown",
      "source": [
        "### Manipulación de cadenas"
      ],
      "metadata": {
        "id": "JThwSgh2c4Jl"
      }
    },
    {
      "cell_type": "markdown",
      "source": [
        "#### Definir una cadena"
      ],
      "metadata": {
        "id": "k0Cy3aJ3c8Di"
      }
    },
    {
      "cell_type": "code",
      "source": [
        "#Ejemplos de cadenas\n",
        "cadena1  = \"Example string #1\"\n",
        "print(cadena1)\n",
        "cadena2 = 'Example string #2'\n",
        "print(cadena2)"
      ],
      "metadata": {
        "colab": {
          "base_uri": "https://localhost:8080/"
        },
        "id": "zqFYWpf5c0I-",
        "outputId": "2953ae0a-3396-432d-8420-99599f1f5beb"
      },
      "execution_count": null,
      "outputs": [
        {
          "output_type": "stream",
          "name": "stdout",
          "text": [
            "Example string #1\n",
            "Example string #2\n"
          ]
        }
      ]
    },
    {
      "cell_type": "code",
      "source": [
        "#Use single or double quote mark\n",
        "cadena3=\"My teacher said \\\"Don't forget your homework.\\\"\"\n",
        "print(cadena3)\n",
        "cadena4='This is Linode\\'s documentation site.'\n",
        "print(cadena4)"
      ],
      "metadata": {
        "colab": {
          "base_uri": "https://localhost:8080/"
        },
        "id": "CwddDfXrd7yA",
        "outputId": "3618286a-c9f2-43d0-e5e7-7ab548e316f2"
      },
      "execution_count": null,
      "outputs": [
        {
          "output_type": "stream",
          "name": "stdout",
          "text": [
            "My teacher said \"Don't forget your homework.\"\n",
            "This is Linode's documentation site.\n"
          ]
        }
      ]
    },
    {
      "cell_type": "markdown",
      "source": [
        "#### Subcadensa"
      ],
      "metadata": {
        "id": "F_o6vDVteAAb"
      }
    },
    {
      "cell_type": "code",
      "source": [
        "#Obtenemos una subcadena\n",
        "cadena5 = \"This is a string.\"\n",
        "letra = cadena5[0]\n",
        "print(letra)"
      ],
      "metadata": {
        "colab": {
          "base_uri": "https://localhost:8080/"
        },
        "id": "qxlVF-I5d-wA",
        "outputId": "8064ebee-0503-4a1e-f5b7-a2185c359d85"
      },
      "execution_count": null,
      "outputs": [
        {
          "output_type": "stream",
          "name": "stdout",
          "text": [
            "T\n"
          ]
        }
      ]
    },
    {
      "cell_type": "code",
      "source": [
        "cadena6=\"Hello world how are you\"\n",
        "print(cadena6[0:5])"
      ],
      "metadata": {
        "colab": {
          "base_uri": "https://localhost:8080/"
        },
        "id": "-WIN9OlYeGsd",
        "outputId": "89587f0d-f845-4f30-84a6-cf63614963e2"
      },
      "execution_count": null,
      "outputs": [
        {
          "output_type": "stream",
          "name": "stdout",
          "text": [
            "Hello\n"
          ]
        }
      ]
    },
    {
      "cell_type": "markdown",
      "source": [
        "#### Operadores sobre cadenas"
      ],
      "metadata": {
        "id": "j-Xx_whReM9O"
      }
    },
    {
      "cell_type": "code",
      "source": [
        "#Concatenacion de cadenas\n",
        "nombre= \"Abraham\"\n",
        "apellido = \" Lincoln\"\n",
        "print(nombre + apellido)"
      ],
      "metadata": {
        "colab": {
          "base_uri": "https://localhost:8080/"
        },
        "id": "mVDE4-IXeQ6E",
        "outputId": "81c7dbfc-c20b-4fe5-9993-d27b8945cdd9"
      },
      "execution_count": null,
      "outputs": [
        {
          "output_type": "stream",
          "name": "stdout",
          "text": [
            "Abraham Lincoln\n"
          ]
        }
      ]
    },
    {
      "cell_type": "code",
      "source": [
        "#Generar múltiples elementos de tipo cadena\n",
        "a=\"a\"\n",
        "print(a* 10)"
      ],
      "metadata": {
        "colab": {
          "base_uri": "https://localhost:8080/"
        },
        "id": "7i_vvZpVeTfe",
        "outputId": "2aa2ad86-c287-47f2-a3d7-f5b361f1d31e"
      },
      "execution_count": null,
      "outputs": [
        {
          "output_type": "stream",
          "name": "stdout",
          "text": [
            "aaaaaaaaaa\n"
          ]
        }
      ]
    },
    {
      "cell_type": "markdown",
      "source": [
        "#### Métodos de cadena"
      ],
      "metadata": {
        "id": "7LxHR0rmeYK3"
      }
    },
    {
      "cell_type": "code",
      "source": [
        "# Capitalizar una cadena de texto\n",
        "print('example string'.upper())"
      ],
      "metadata": {
        "colab": {
          "base_uri": "https://localhost:8080/"
        },
        "id": "G0nZdfudeWZ3",
        "outputId": "d02eb31a-ef32-41e3-bd7d-692952cd20c1"
      },
      "execution_count": null,
      "outputs": [
        {
          "output_type": "stream",
          "name": "stdout",
          "text": [
            "EXAMPLE STRING\n"
          ]
        }
      ]
    },
    {
      "cell_type": "code",
      "source": [
        " #Eliminar espacios adicionales de una cadena\n",
        "print('example '.strip())"
      ],
      "metadata": {
        "colab": {
          "base_uri": "https://localhost:8080/"
        },
        "id": "BUZoJqDHehxp",
        "outputId": "b7c560e4-05b3-4815-8d6e-8e0195929cad"
      },
      "execution_count": null,
      "outputs": [
        {
          "output_type": "stream",
          "name": "stdout",
          "text": [
            "example\n"
          ]
        }
      ]
    },
    {
      "cell_type": "code",
      "source": [
        "#Cadena dividida por medio de los espacios en blanco\n",
        "a='This string has five words'.split()\n",
        "print(a)"
      ],
      "metadata": {
        "colab": {
          "base_uri": "https://localhost:8080/"
        },
        "id": "ehNhT_reenMt",
        "outputId": "3d729d35-65de-4c98-d399-a72db2a3d02a"
      },
      "execution_count": null,
      "outputs": [
        {
          "output_type": "stream",
          "name": "stdout",
          "text": [
            "['This', 'string', 'has', 'five', 'words']\n"
          ]
        }
      ]
    },
    {
      "cell_type": "code",
      "source": [
        "cadena7='one,two,three,four,five'.split(',')\n",
        "print(cadena7)"
      ],
      "metadata": {
        "colab": {
          "base_uri": "https://localhost:8080/"
        },
        "id": "VlqlTh6Ger67",
        "outputId": "8837a8e4-411c-4a26-e8aa-287a7a03ecba"
      },
      "execution_count": null,
      "outputs": [
        {
          "output_type": "stream",
          "name": "stdout",
          "text": [
            "['one', 'two', 'three', 'four', 'five']\n"
          ]
        }
      ]
    },
    {
      "cell_type": "code",
      "source": [
        "print(' '.join(['This', 'string', 'has', 'five', 'words']))"
      ],
      "metadata": {
        "colab": {
          "base_uri": "https://localhost:8080/"
        },
        "id": "sL1gJu3keumJ",
        "outputId": "8b2bb523-5378-450a-f872-c6188b41e38c"
      },
      "execution_count": null,
      "outputs": [
        {
          "output_type": "stream",
          "name": "stdout",
          "text": [
            "This string has five words\n"
          ]
        }
      ]
    },
    {
      "cell_type": "code",
      "source": [],
      "metadata": {
        "id": "Q5tGVFd8ew0q"
      },
      "execution_count": null,
      "outputs": []
    }
  ]
}